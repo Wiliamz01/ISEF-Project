{
 "cells": [
  {
   "cell_type": "code",
   "execution_count": 2,
   "metadata": {},
   "outputs": [],
   "source": [
    "import torch\n",
    "from torchvision import datasets\n",
    "from torchvision import transforms\n",
    "import matplotlib.pyplot as plt\n",
    "from torch.utils.data import DataLoader, TensorDataset\n",
    "import csv"
   ]
  },
  {
   "cell_type": "code",
   "execution_count": 3,
   "metadata": {},
   "outputs": [],
   "source": [
    "class AutoEncoder(torch.nn.Module):\n",
    "    def __init__(self):\n",
    "        super(AutoEncoder, self).__init__()\n",
    "        self.encoder = torch.nn.Sequential(\n",
    "            torch.nn.Linear(18, 9),\n",
    "            torch.nn.ReLU(),\n",
    "            torch.nn.Linear(9, 6),\n",
    "            torch.nn.ReLU(),\n",
    "            torch.nn.Linear(6, 3),\n",
    "        )\n",
    "        self.decoder = torch.nn.Sequential(\n",
    "            torch.nn.Linear(3, 6),\n",
    "            torch.nn.ReLU(),\n",
    "            torch.nn.Linear(6, 9),\n",
    "            torch.nn.ReLU(),\n",
    "            torch.nn.Linear(9, 18),\n",
    "            torch.nn.ReLU(),\n",
    "        )\n",
    "\n",
    "    def forward(self, x):\n",
    "        x = self.encoder(x)\n",
    "        x = self.decoder(x)\n",
    "        return x"
   ]
  },
  {
   "cell_type": "code",
   "execution_count": 6,
   "metadata": {},
   "outputs": [
    {
     "name": "stdout",
     "output_type": "stream",
     "text": [
      "4294602\n",
      "working: 0\n",
      "working: 60000\n",
      "working: 200000\n",
      "working: 210000\n",
      "working: 250000\n",
      "working: 410000\n",
      "working: 420000\n",
      "working: 900000\n",
      "working: 920000\n",
      "working: 1160000\n",
      "working: 1230000\n",
      "working: 1410000\n",
      "working: 1420000\n",
      "working: 1540000\n",
      "working: 1710000\n",
      "working: 1770000\n",
      "working: 2100000\n",
      "working: 2220000\n",
      "working: 2540000\n",
      "working: 2840000\n",
      "working: 3230000\n",
      "working: 3330000\n",
      "working: 3380000\n",
      "working: 3710000\n",
      "working: 3900000\n",
      "working: 3940000\n",
      "working: 4070000\n",
      "working: 4100000\n",
      "working: 4190000\n",
      "working: 4220000\n",
      "350181\n",
      "6705\n"
     ]
    }
   ],
   "source": [
    "with open('../background_data.txt', 'r') as f:\n",
    "    data = f.read()\n",
    "parsed_data = []\n",
    "lines = data.split('\\n')\n",
    "print(len(lines))\n",
    "total_padded = 0\n",
    "i = 0\n",
    "while i < len(lines):\n",
    "    if i%10000 ==0:\n",
    "        print(\"working: {}\".format(i))\n",
    "    line = lines[i].strip()\n",
    "    i += 1  # Increment i here to ensure it always moves to the next line\n",
    "\n",
    "    if line:\n",
    "        if line.isdigit():  # Check if the line contains only digits (number of jets)\n",
    "            num_jets = int(line)\n",
    "            jets_data = []\n",
    "\n",
    "            for _ in range(num_jets):\n",
    "                if i < len(lines):\n",
    "                    jet_values = [float(val) for val in lines[i].split()]\n",
    "                    jets_data.extend(jet_values)\n",
    "                    i += 1  # Increment i for each jet line\n",
    "\n",
    "            # Padding if fewer than 6 jets\n",
    "            while len(jets_data) < 6 * 3:\n",
    "                jets_data.append(0.0)\n",
    "                total_padded += 1\n",
    "\n",
    "            # Truncate if more than 6 jets (optional, based on your requirement)\n",
    "            jets_data = jets_data[:18]\n",
    "            parsed_data.append(jets_data)\n",
    "\n",
    "# Display the parsed data\n",
    "print(len(parsed_data))\n",
    "\n",
    "\n",
    "# Path for the new CSV file\n",
    "output_file_path = 'DELETE.csv'\n",
    "\n",
    "# Writing the parsed data to a CSV file\n",
    "with open(output_file_path, 'w', newline='') as file:\n",
    "    writer = csv.writer(file)\n",
    "    writer.writerows(parsed_data)\n",
    "\n",
    "print(total_padded)"
   ]
  },
  {
   "cell_type": "code",
   "execution_count": 5,
   "metadata": {},
   "outputs": [
    {
     "name": "stdout",
     "output_type": "stream",
     "text": [
      "Number of lines in the CSV file: 350181\n"
     ]
    }
   ],
   "source": [
    "file_path = 'parsed_data.csv'  # Replace with your CSV file path\n",
    "\n",
    "line_count = 0\n",
    "with open(file_path, 'r') as file:\n",
    "    for line in file:\n",
    "        line_count += 1\n",
    "\n",
    "print(f\"Number of lines in the CSV file: {line_count}\")\n"
   ]
  },
  {
   "cell_type": "code",
   "execution_count": 4,
   "metadata": {},
   "outputs": [
    {
     "name": "stdout",
     "output_type": "stream",
     "text": [
      "True\n"
     ]
    }
   ],
   "source": [
    "print(torch.cuda.is_available())"
   ]
  },
  {
   "cell_type": "code",
   "execution_count": 37,
   "metadata": {},
   "outputs": [
    {
     "name": "stdout",
     "output_type": "stream",
     "text": [
      "350181\n",
      "53000\n"
     ]
    }
   ],
   "source": [
    "csv_file_path = '../parsed_data.csv'\n",
    "parsed_data = []\n",
    "parsed_signal_data = []\n",
    "with open(csv_file_path, 'r') as csvfile:\n",
    "    csv_reader = csv.reader(csvfile)\n",
    "    \n",
    "    for row in csv_reader:\n",
    "        data_point = [float(value) for value in row]\n",
    "        parsed_data.append(data_point)\n",
    "\n",
    "print(len(parsed_data))\n",
    "\n",
    "with open(\"../parsed_signal_data.csv\", 'r') as csvfile:\n",
    "    csv_reader = csv.reader(csvfile)\n",
    "    \n",
    "    for row in csv_reader:\n",
    "        data_point = [float(value) for value in row]\n",
    "        parsed_signal_data.append(data_point)\n",
    "\n",
    "print(len(parsed_signal_data))"
   ]
  },
  {
   "cell_type": "code",
   "execution_count": 14,
   "metadata": {},
   "outputs": [
    {
     "name": "stdout",
     "output_type": "stream",
     "text": [
      "GPU is available\n"
     ]
    }
   ],
   "source": [
    "from sklearn.model_selection import train_test_split\n",
    "\n",
    "if torch.cuda.is_available():\n",
    "    device = torch.device('cuda')\n",
    "    print('GPU is available')\n",
    "else:\n",
    "    device = torch.device('cpu')\n",
    "    print('GPU not available, CPU used')\n",
    "\n",
    "tensor_data = torch.tensor(parsed_data, dtype=torch.float)\n",
    "train_data, val_data = train_test_split(tensor_data, test_size=0.2, random_state=42)\n",
    "train_dataset = TensorDataset(train_data)\n",
    "val_dataset = TensorDataset(val_data)\n",
    "batch_size = 1024  # adjust later\n",
    "train_dataloader = DataLoader(train_dataset, batch_size=batch_size, shuffle=True)\n",
    "val_dataloader = DataLoader(val_dataset, batch_size=batch_size)\n",
    "model = AutoEncoder()\n",
    "model.to(device)\n",
    "criterion = torch.nn.MSELoss() \n",
    "optimizer = torch.optim.Adam(model.parameters(), lr=1e-3) \n"
   ]
  },
  {
   "cell_type": "code",
   "execution_count": 16,
   "metadata": {},
   "outputs": [
    {
     "name": "stdout",
     "output_type": "stream",
     "text": [
      "Epoch 1/20, Training Loss: 2450.9058, Validation Loss: 2166.7591\n",
      "Epoch 2/20, Training Loss: 2149.8009, Validation Loss: 2157.2379\n",
      "Epoch 3/20, Training Loss: 2132.9645, Validation Loss: 2119.9982\n",
      "Epoch 4/20, Training Loss: 1840.0275, Validation Loss: 1055.1729\n",
      "Epoch 5/20, Training Loss: 988.4210, Validation Loss: 957.6894\n",
      "Epoch 6/20, Training Loss: 902.1785, Validation Loss: 894.1413\n",
      "Epoch 7/20, Training Loss: 889.9994, Validation Loss: 893.3907\n",
      "Epoch 8/20, Training Loss: 889.3732, Validation Loss: 892.9784\n",
      "Epoch 9/20, Training Loss: 889.1023, Validation Loss: 892.3953\n",
      "Epoch 10/20, Training Loss: 888.9682, Validation Loss: 892.4054\n",
      "Epoch 11/20, Training Loss: 888.9301, Validation Loss: 892.4731\n",
      "Epoch 12/20, Training Loss: 888.8929, Validation Loss: 892.1134\n",
      "Epoch 13/20, Training Loss: 888.7906, Validation Loss: 892.2294\n",
      "Epoch 14/20, Training Loss: 888.8641, Validation Loss: 892.4237\n",
      "Epoch 15/20, Training Loss: 888.7865, Validation Loss: 892.2262\n",
      "Epoch 16/20, Training Loss: 888.7713, Validation Loss: 892.1217\n",
      "Epoch 17/20, Training Loss: 888.6293, Validation Loss: 891.9074\n",
      "Epoch 18/20, Training Loss: 888.6581, Validation Loss: 892.2521\n",
      "Epoch 19/20, Training Loss: 888.6596, Validation Loss: 892.8734\n",
      "Epoch 20/20, Training Loss: 888.5858, Validation Loss: 891.8710\n"
     ]
    }
   ],
   "source": [
    "num_epochs = 20  # Number of training epochs\n",
    "for epoch in range(num_epochs):\n",
    "    # Training Phase\n",
    "    model.train()  # Set the model to training mode\n",
    "    train_loss = 0.0\n",
    "    for data in train_dataloader:\n",
    "        inputs = data[0].to(device)  # Assuming data is a tuple of (input, target)\n",
    "        \n",
    "        # Zero the parameter gradients\n",
    "        optimizer.zero_grad()\n",
    "        \n",
    "        # Forward pass\n",
    "        outputs = model(inputs)\n",
    "        loss = criterion(outputs, inputs)\n",
    "        \n",
    "        # Backward pass and optimize\n",
    "        loss.backward()\n",
    "        optimizer.step()\n",
    "\n",
    "        train_loss += loss.item() * inputs.size(0)\n",
    "\n",
    "    # Calculate average training loss\n",
    "    train_loss /= len(train_dataloader.dataset)\n",
    "\n",
    "    # Validation Phase\n",
    "    model.eval()  # Set the model to evaluation mode\n",
    "    val_loss = 0.0\n",
    "    with torch.no_grad():  # Turn off gradients for validation\n",
    "        for data in val_dataloader:\n",
    "            inputs = data[0].to(device)  # Assuming data is a tuple of (input, target)\n",
    "\n",
    "            # Forward pass\n",
    "            outputs = model(inputs)\n",
    "            loss = criterion(outputs, inputs)\n",
    "\n",
    "            val_loss += loss.item() * inputs.size(0)\n",
    "\n",
    "    # Calculate average validation loss\n",
    "    val_loss /= len(val_dataloader.dataset)\n",
    "\n",
    "    # Print epoch summary\n",
    "    print(f'Epoch {epoch+1}/{num_epochs}, Training Loss: {train_loss:.4f}, Validation Loss: {val_loss:.4f}')\n"
   ]
  },
  {
   "cell_type": "code",
   "execution_count": 17,
   "metadata": {},
   "outputs": [],
   "source": [
    "model_save_path = \"autoencoder_model.pth\"\n",
    "torch.save(model.state_dict(), model_save_path)"
   ]
  },
  {
   "cell_type": "code",
   "execution_count": 18,
   "metadata": {},
   "outputs": [
    {
     "data": {
      "text/plain": [
       "AutoEncoder(\n",
       "  (encoder): Sequential(\n",
       "    (0): Linear(in_features=18, out_features=9, bias=True)\n",
       "    (1): ReLU()\n",
       "    (2): Linear(in_features=9, out_features=6, bias=True)\n",
       "    (3): ReLU()\n",
       "    (4): Linear(in_features=6, out_features=3, bias=True)\n",
       "  )\n",
       "  (decoder): Sequential(\n",
       "    (0): Linear(in_features=3, out_features=6, bias=True)\n",
       "    (1): ReLU()\n",
       "    (2): Linear(in_features=6, out_features=9, bias=True)\n",
       "    (3): ReLU()\n",
       "    (4): Linear(in_features=9, out_features=18, bias=True)\n",
       "    (5): ReLU()\n",
       "  )\n",
       ")"
      ]
     },
     "execution_count": 18,
     "metadata": {},
     "output_type": "execute_result"
    }
   ],
   "source": [
    "model = AutoEncoder()\n",
    "model.load_state_dict(torch.load(model_save_path))\n",
    "model.eval()"
   ]
  },
  {
   "cell_type": "markdown",
   "metadata": {},
   "source": [
    "## Model Evaluation through Background Reconstruction Error & Signal Reconstruction Error\n",
    "\n",
    "Iteration 1"
   ]
  },
  {
   "cell_type": "code",
   "execution_count": 40,
   "metadata": {},
   "outputs": [
    {
     "name": "stdout",
     "output_type": "stream",
     "text": [
      "GPU is available\n"
     ]
    }
   ],
   "source": [
    "if torch.cuda.is_available():\n",
    "    device = torch.device('cuda')\n",
    "    print('GPU is available')\n",
    "else:\n",
    "    device = torch.device('cpu')\n",
    "    print('GPU not available, CPU used')\n",
    "\n",
    "background_tensor_data = torch.tensor(parsed_data, dtype=torch.float)\n",
    "background_dataset = TensorDataset(background_tensor_data)\n",
    "background_dataloader = DataLoader(background_dataset, batch_size=1024, shuffle=False)\n",
    "\n",
    "background_reconstruction_loss = []\n",
    "model = AutoEncoder()  # Replace with your actual model class name\n",
    "model.load_state_dict(torch.load('../model/autoencoder_model.pth', map_location=device))\n",
    "model.to(device)\n",
    "model.eval()\n",
    "with torch.no_grad():\n",
    "    for data in background_dataloader:\n",
    "        inputs = data[0].to(device)\n",
    "        reconstructed = model(inputs)\n",
    "        error = torch.sum((inputs-reconstructed)**2, dim=1)\n",
    "        background_reconstruction_loss.extend(error.cpu().numpy())"
   ]
  },
  {
   "cell_type": "code",
   "execution_count": 41,
   "metadata": {},
   "outputs": [
    {
     "data": {
      "image/png": "[encoded data removed]",
      "text/plain": [
       "<Figure size 640x480 with 1 Axes>"
      ]
     },
     "metadata": {},
     "output_type": "display_data"
    }
   ],
   "source": [
    "plt.hist(background_reconstruction_loss, bins=500)\n",
    "plt.xlabel('Reconstruction Loss')\n",
    "plt.ylabel('Number of Events')\n",
    "plt.title(\"Histogram of Background Data Reconstruction Loss\")\n",
    "plt.show()"
   ]
  },
  {
   "cell_type": "code",
   "execution_count": 42,
   "metadata": {},
   "outputs": [
    {
     "name": "stdout",
     "output_type": "stream",
     "text": [
      "1535374.6\n",
      "278.09216\n"
     ]
    }
   ],
   "source": [
    "max_error = max(background_reconstruction_loss)\n",
    "min_error = min(background_reconstruction_loss)\n",
    "print(max_error)\n",
    "print(min_error)"
   ]
  },
  {
   "cell_type": "code",
   "execution_count": 43,
   "metadata": {},
   "outputs": [
    {
     "name": "stdout",
     "output_type": "stream",
     "text": [
      "16002.556435191687\n"
     ]
    }
   ],
   "source": [
    "sum = 0\n",
    "for i in background_reconstruction_loss:\n",
    "    sum += i\n",
    "\n",
    "print(sum/len(background_reconstruction_loss))"
   ]
  },
  {
   "cell_type": "markdown",
   "metadata": {},
   "source": [
    "#### Signal Reconstruction Error"
   ]
  },
  {
   "cell_type": "code",
   "execution_count": 44,
   "metadata": {},
   "outputs": [],
   "source": [
    "signal_tensor_data = torch.tensor(parsed_signal_data, dtype=torch.float)\n",
    "signal_dataset = TensorDataset(signal_tensor_data)\n",
    "signal_dataloader = DataLoader(signal_dataset, batch_size=1024, shuffle=False)\n",
    "\n",
    "signal_reconstruction_loss = []\n",
    "with torch.no_grad():\n",
    "    for data in signal_dataloader:\n",
    "        inputs = data[0].to(device)\n",
    "        reconstructed = model(inputs)\n",
    "        error = torch.sum((inputs-reconstructed)**2, dim=1)\n",
    "        signal_reconstruction_loss.extend(error.cpu().numpy())"
   ]
  },
  {
   "cell_type": "code",
   "execution_count": 49,
   "metadata": {},
   "outputs": [
    {
     "data": {
      "image/png": "[encoded data removed]",
      "text/plain": [
       "<Figure size 640x480 with 1 Axes>"
      ]
     },
     "metadata": {},
     "output_type": "display_data"
    }
   ],
   "source": [
    "plt.hist(signal_reconstruction_loss, bins=500)\n",
    "plt.xlabel('Reconstruction Loss')\n",
    "plt.ylabel('Number of Events')\n",
    "plt.title(\"Histogram of Signal Data Reconstruction Loss\")\n",
    "plt.show()"
   ]
  },
  {
   "cell_type": "code",
   "execution_count": 46,
   "metadata": {},
   "outputs": [
    {
     "name": "stdout",
     "output_type": "stream",
     "text": [
      "1012562.3\n",
      "8.377264\n"
     ]
    }
   ],
   "source": [
    "max_error = max(signal_reconstruction_loss)\n",
    "min_error = min(signal_reconstruction_loss)\n",
    "print(max_error)\n",
    "print(min_error)"
   ]
  },
  {
   "cell_type": "code",
   "execution_count": 47,
   "metadata": {},
   "outputs": [
    {
     "name": "stdout",
     "output_type": "stream",
     "text": [
      "16753.7198165283\n"
     ]
    }
   ],
   "source": [
    "sum = 0\n",
    "for i in signal_reconstruction_loss:\n",
    "    sum += i\n",
    "\n",
    "print(sum/len(signal_reconstruction_loss))"
   ]
  },
  {
   "cell_type": "markdown",
   "metadata": {},
   "source": [
    "## Signal Dataset Evaluation"
   ]
  },
  {
   "cell_type": "code",
   "execution_count": 5,
   "metadata": {},
   "outputs": [
    {
     "name": "stdout",
     "output_type": "stream",
     "text": [
      "404071\n",
      "working: 0\n",
      "working: 120000\n",
      "working: 150000\n",
      "working: 180000\n",
      "working: 210000\n",
      "53000\n",
      "133170\n"
     ]
    }
   ],
   "source": [
    "with open('../signal_data.txt', 'r') as f:\n",
    "    data = f.read()\n",
    "parsed_signal_data = []\n",
    "lines = data.split('\\n')\n",
    "print(len(lines))\n",
    "jet_padded = 0\n",
    "i = 0\n",
    "while i < len(lines):\n",
    "    if i%10000 ==0:\n",
    "        print(\"working: {}\".format(i))\n",
    "    line = lines[i].strip()\n",
    "    i += 1  # Increment i here to ensure it always moves to the next line\n",
    "\n",
    "    if line:\n",
    "        if line.isdigit():  # Check if the line contains only digits (number of jets)\n",
    "            num_jets = int(line)\n",
    "            jets_data = []\n",
    "\n",
    "            for _ in range(num_jets):\n",
    "                if i < len(lines):\n",
    "                    jet_values = [float(val) for val in lines[i].split()]\n",
    "                    jets_data.extend(jet_values)\n",
    "                    i += 1  # Increment i for each jet line\n",
    "\n",
    "            # Padding if fewer than 6 jets\n",
    "            while len(jets_data) < 6 * 3:\n",
    "                jets_data.append(0.0)\n",
    "                jet_padded += 1\n",
    "\n",
    "            # Truncate if more than 6 jets (optional, based on your requirement)\n",
    "            jets_data = jets_data[:18]\n",
    "            parsed_signal_data.append(jets_data)\n",
    "\n",
    "# Display the parsed data\n",
    "print(len(parsed_signal_data))\n",
    "\n",
    "\n",
    "# Path for the new CSV file\n",
    "output_file_path = 'DELETE2.csv'\n",
    "\n",
    "# Writing the parsed data to a CSV file\n",
    "with open(output_file_path, 'w', newline='') as file:\n",
    "    writer = csv.writer(file)\n",
    "    writer.writerows(parsed_signal_data)\n",
    "\n",
    "print(jet_padded)"
   ]
  },
  {
   "cell_type": "code",
   "execution_count": null,
   "metadata": {},
   "outputs": [],
   "source": [
    "if torch.cuda.is_available():\n",
    "    device = torch.device('cuda')\n",
    "    print('GPU is available')\n",
    "else:\n",
    "    device = torch.device('cpu')\n",
    "    print('GPU not available, CPU used')\n",
    "\n",
    "tensor_data = torch.tensor(parsed_signal_data, dtype=torch.float)\n",
    "signal_dataset = TensorDataset(tensor_data)\n",
    "signal_dataloader = DataLoader(signal_dataset, batch_size=1024, shuffle=False)\n",
    "\n",
    "model = AutoEncoder()  # Replace with your actual model class name\n",
    "model.load_state_dict(torch.load('../mode/autoencoder_model.pth', map_location=device))\n",
    "model.to(device)\n",
    "model.eval()\n",
    "\n"
   ]
  },
  {
   "cell_type": "code",
   "execution_count": null,
   "metadata": {},
   "outputs": [],
   "source": []
  }
 ],
 "metadata": {
  "kernelspec": {
   "display_name": "isef",
   "language": "python",
   "name": "python3"
  },
  "language_info": {
   "codemirror_mode": {
    "name": "ipython",
    "version": 3
   },
   "file_extension": ".py",
   "mimetype": "text/x-python",
   "name": "python",
   "nbconvert_exporter": "python",
   "pygments_lexer": "ipython3",
   "version": "3.10.13"
  }
 },
 "nbformat": 4,
 "nbformat_minor": 2
}
