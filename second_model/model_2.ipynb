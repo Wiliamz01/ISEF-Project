{
 "cells": [
  {
   "cell_type": "code",
   "execution_count": 1,
   "metadata": {},
   "outputs": [],
   "source": [
    "import torch\n",
    "from torchvision import datasets\n",
    "from torchvision import transforms\n",
    "import matplotlib.pyplot as plt\n",
    "from torch.utils.data import DataLoader, TensorDataset\n",
    "import csv"
   ]
  },
  {
   "cell_type": "markdown",
   "metadata": {},
   "source": [
    "### Data Loader"
   ]
  },
  {
   "cell_type": "code",
   "execution_count": 3,
   "metadata": {},
   "outputs": [
    {
     "name": "stdout",
     "output_type": "stream",
     "text": [
      "350181\n",
      "53000\n"
     ]
    }
   ],
   "source": [
    "csv_file_path = '../parsed_data.csv'\n",
    "parsed_data = []\n",
    "parsed_signal_data = []\n",
    "with open(csv_file_path, 'r') as csvfile:\n",
    "    csv_reader = csv.reader(csvfile)\n",
    "    \n",
    "    for row in csv_reader:\n",
    "        data_point = [float(value) for value in row]\n",
    "        parsed_data.append(data_point)\n",
    "\n",
    "print(len(parsed_data))\n",
    "\n",
    "with open(\"../parsed_signal_data.csv\", 'r') as csvfile:\n",
    "    csv_reader = csv.reader(csvfile)\n",
    "    \n",
    "    for row in csv_reader:\n",
    "        data_point = [float(value) for value in row]\n",
    "        parsed_signal_data.append(data_point)\n",
    "\n",
    "print(len(parsed_signal_data))"
   ]
  },
  {
   "cell_type": "markdown",
   "metadata": {},
   "source": [
    "### First Round of Adjustment\n",
    "\n",
    "Idea is to add more nodes and more layers to increase complexity, lose some genearlization but gain a lot more accuracy. To counteract overfitting, we will increase batch size to help."
   ]
  },
  {
   "cell_type": "code",
   "execution_count": 4,
   "metadata": {},
   "outputs": [],
   "source": [
    "class AutoEncoder(torch.nn.Module):\n",
    "    def __init__(self):\n",
    "        super(AutoEncoder, self).__init__()\n",
    "        self.encoder = torch.nn.Sequential(\n",
    "            torch.nn.Linear(18, 6),\n",
    "            torch.nn.ReLU(),\n",
    "            torch.nn.Linear(6, 18),\n",
    "            torch.nn.ReLU(),\n",
    "            torch.nn.Linear(18, 9),\n",
    "            torch.nn.ReLU(),\n",
    "            torch.nn.Linear(9, 3),\n",
    "        )\n",
    "        self.decoder = torch.nn.Sequential(\n",
    "            torch.nn.Linear(3, 9),\n",
    "            torch.nn.ReLU(),          # gonna try sigmoid here as well\n",
    "            torch.nn.Linear(9, 18),\n",
    "            torch.nn.ReLU(),\n",
    "            torch.nn.Linear(18, 6),  \n",
    "            torch.nn.ReLU(),\n",
    "            torch.nn.Linear(6, 18),\n",
    "            torch.nn.ReLU(),\n",
    "        )\n",
    "\n",
    "    def forward(self, x):\n",
    "        x = self.encoder(x)\n",
    "        x = self.decoder(x)\n",
    "        return x"
   ]
  },
  {
   "cell_type": "code",
   "execution_count": null,
   "metadata": {},
   "outputs": [],
   "source": [
    "if torch.cuda.is_available():\n",
    "    device = torch.device('cuda')\n",
    "    print('GPU is available')\n",
    "else:\n",
    "    device = torch.device('cpu')\n",
    "    print('GPU not available, CPU used')\n",
    "\n"
   ]
  },
  {
   "cell_type": "code",
   "execution_count": null,
   "metadata": {},
   "outputs": [],
   "source": [
    "from sklearn.model_selection import train_test_split\n",
    "\n",
    "tensor_data = torch.tensor(parsed_data, dtype=torch.float)\n",
    "train_data, val_data = train_test_split(tensor_data, test_size=0.2, random_state=42)\n",
    "train_dataset = TensorDataset(train_data)\n",
    "val_dataset = TensorDataset(val_data)\n",
    "batch_size = 1024  # adjust later\n",
    "train_dataloader = DataLoader(train_dataset, batch_size=batch_size, shuffle=True)\n",
    "val_dataloader = DataLoader(val_dataset, batch_size=batch_size)\n",
    "model = AutoEncoder()\n",
    "model.to(device)\n",
    "criterion = torch.nn.MSELoss() \n",
    "optimizer = torch.optim.Adam(model.parameters(), lr=1e-4) \n"
   ]
  }
 ],
 "metadata": {
  "kernelspec": {
   "display_name": "isef",
   "language": "python",
   "name": "python3"
  },
  "language_info": {
   "codemirror_mode": {
    "name": "ipython",
    "version": 3
   },
   "file_extension": ".py",
   "mimetype": "text/x-python",
   "name": "python",
   "nbconvert_exporter": "python",
   "pygments_lexer": "ipython3",
   "version": "3.10.13"
  }
 },
 "nbformat": 4,
 "nbformat_minor": 2
}
