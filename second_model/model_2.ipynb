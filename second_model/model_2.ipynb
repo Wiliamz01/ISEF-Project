{
 "cells": [
  {
   "cell_type": "code",
   "execution_count": 1,
   "metadata": {},
   "outputs": [],
   "source": [
    "import torch\n",
    "from torchvision import datasets\n",
    "from torchvision import transforms\n",
    "import matplotlib.pyplot as plt\n",
    "from torch.utils.data import DataLoader, TensorDataset\n",
    "import csv"
   ]
  },
  {
   "cell_type": "markdown",
   "metadata": {},
   "source": [
    "### Data Loader"
   ]
  },
  {
   "cell_type": "code",
   "execution_count": 2,
   "metadata": {},
   "outputs": [
    {
     "name": "stdout",
     "output_type": "stream",
     "text": [
      "350181\n",
      "53000\n"
     ]
    }
   ],
   "source": [
    "csv_file_path = '../parsed_data.csv'\n",
    "parsed_data = []\n",
    "parsed_signal_data = []\n",
    "with open(csv_file_path, 'r') as csvfile:\n",
    "    csv_reader = csv.reader(csvfile)\n",
    "    \n",
    "    for row in csv_reader:\n",
    "        data_point = [float(value) for value in row]\n",
    "        parsed_data.append(data_point)\n",
    "\n",
    "print(len(parsed_data))\n",
    "\n",
    "with open(\"../parsed_signal_data.csv\", 'r') as csvfile:\n",
    "    csv_reader = csv.reader(csvfile)\n",
    "    \n",
    "    for row in csv_reader:\n",
    "        data_point = [float(value) for value in row]\n",
    "        parsed_signal_data.append(data_point)\n",
    "\n",
    "print(len(parsed_signal_data))"
   ]
  },
  {
   "cell_type": "markdown",
   "metadata": {},
   "source": [
    "### First Round of Adjustment\n",
    "\n",
    "Idea is to add more nodes and more layers to increase complexity, lose some genearlization but gain a lot more accuracy. To counteract overfitting, we will increase batch size to help."
   ]
  },
  {
   "cell_type": "code",
   "execution_count": 5,
   "metadata": {},
   "outputs": [
    {
     "name": "stdout",
     "output_type": "stream",
     "text": [
      "GPU is available\n"
     ]
    }
   ],
   "source": [
    "if torch.cuda.is_available():\n",
    "    device = torch.device('cuda')\n",
    "    print('GPU is available')\n",
    "else:\n",
    "    device = torch.device('cpu')\n",
    "    print('GPU not available, CPU used')\n"
   ]
  },
  {
   "cell_type": "code",
   "execution_count": 25,
   "metadata": {},
   "outputs": [],
   "source": [
    "from sklearn.model_selection import train_test_split\n",
    "\n",
    "tensor_data = torch.tensor(parsed_data, dtype=torch.float)\n",
    "train_data, val_data = train_test_split(tensor_data, test_size=0.2, random_state=42)\n",
    "train_dataset = TensorDataset(train_data)\n",
    "val_dataset = TensorDataset(val_data)\n",
    "batch_size = 1024  # adjust later\n",
    "train_dataloader = DataLoader(train_dataset, batch_size=batch_size, shuffle=True)\n",
    "val_dataloader = DataLoader(val_dataset, batch_size=batch_size)\n",
    "model = AutoEncoder()\n",
    "model.to(device)\n",
    "criterion = torch.nn.MSELoss() \n",
    "optimizer = torch.optim.Adam(model.parameters(), lr=1e-3) \n"
   ]
  },
  {
   "cell_type": "code",
   "execution_count": 26,
   "metadata": {},
   "outputs": [
    {
     "name": "stdout",
     "output_type": "stream",
     "text": [
      "Epoch 1/20, Training Loss: 36883.5843, Validation Loss: 19769.9169\n",
      "Epoch 2/20, Training Loss: 19589.5806, Validation Loss: 19548.2172\n",
      "Epoch 3/20, Training Loss: 19567.2501, Validation Loss: 19546.8323\n",
      "Epoch 4/20, Training Loss: 19562.3453, Validation Loss: 19531.2870\n",
      "Epoch 5/20, Training Loss: 19318.4673, Validation Loss: 18803.4339\n",
      "Epoch 6/20, Training Loss: 17990.0954, Validation Loss: 17854.0955\n",
      "Epoch 7/20, Training Loss: 17883.3308, Validation Loss: 17852.3367\n",
      "Epoch 8/20, Training Loss: 17882.5675, Validation Loss: 17851.9221\n",
      "Epoch 9/20, Training Loss: 17882.3508, Validation Loss: 17851.8025\n",
      "Epoch 10/20, Training Loss: 17882.3324, Validation Loss: 17851.9237\n",
      "Epoch 11/20, Training Loss: 17882.2646, Validation Loss: 17851.7507\n",
      "Epoch 12/20, Training Loss: 17882.2184, Validation Loss: 17851.6047\n",
      "Epoch 13/20, Training Loss: 17882.1767, Validation Loss: 17851.5419\n",
      "Epoch 14/20, Training Loss: 17882.1110, Validation Loss: 17851.5193\n",
      "Epoch 15/20, Training Loss: 17882.0544, Validation Loss: 17851.8073\n",
      "Epoch 16/20, Training Loss: 17882.0444, Validation Loss: 17851.4260\n",
      "Epoch 17/20, Training Loss: 17881.9906, Validation Loss: 17852.0821\n",
      "Epoch 18/20, Training Loss: 17881.9836, Validation Loss: 17851.4546\n",
      "Epoch 19/20, Training Loss: 17881.8721, Validation Loss: 17851.3066\n",
      "Epoch 20/20, Training Loss: 17881.8055, Validation Loss: 17851.6160\n"
     ]
    }
   ],
   "source": [
    "num_epochs = 20  # Number of training epochs\n",
    "for epoch in range(num_epochs):\n",
    "    # Training Phase\n",
    "    model.train()  # Set the model to training mode\n",
    "    train_loss = 0.0\n",
    "    for data in train_dataloader:\n",
    "        inputs = data[0].to(device)  # Assuming data is a tuple of (input, target)\n",
    "        \n",
    "        # Zero the parameter gradients\n",
    "        optimizer.zero_grad()\n",
    "        \n",
    "        # Forward pass\n",
    "        outputs = model(inputs)\n",
    "        loss = criterion(outputs, inputs)\n",
    "        \n",
    "        # Backward pass and optimize\n",
    "        loss.backward()\n",
    "        optimizer.step()\n",
    "\n",
    "        train_loss += loss.item() * inputs.size(0)\n",
    "\n",
    "    # Calculate average training loss\n",
    "    train_loss /= len(train_dataloader.dataset)\n",
    "\n",
    "    # Validation Phase\n",
    "    model.eval()  # Set the model to evaluation mode\n",
    "    val_loss = 0.0\n",
    "    with torch.no_grad():  # Turn off gradients for validation\n",
    "        for data in val_dataloader:\n",
    "            inputs = data[0].to(device)  # Assuming data is a tuple of (input, target)\n",
    "\n",
    "            # Forward pass\n",
    "            outputs = model(inputs)\n",
    "            loss = criterion(outputs, inputs)\n",
    "\n",
    "            val_loss += loss.item() * inputs.size(0)\n",
    "\n",
    "    # Calculate average validation loss\n",
    "    val_loss /= len(val_dataloader.dataset)\n",
    "\n",
    "    # Print epoch summary\n",
    "    print(f'Epoch {epoch+1}/{num_epochs}, Training Loss: {train_loss:.4f}, Validation Loss: {val_loss:.4f}')"
   ]
  },
  {
   "cell_type": "code",
   "execution_count": 22,
   "metadata": {},
   "outputs": [],
   "source": [
    "model_save_path = \"autoencoder_model_2_2.pth\"\n",
    "torch.save(model.state_dict(), model_save_path)"
   ]
  },
  {
   "cell_type": "markdown",
   "metadata": {},
   "source": [
    "## Model Evaluation through Background Reconstruction Error & Signal Reconstruction Error\n",
    "\n",
    "Iteration 1"
   ]
  },
  {
   "cell_type": "code",
   "execution_count": 29,
   "metadata": {},
   "outputs": [
    {
     "name": "stdout",
     "output_type": "stream",
     "text": [
      "GPU is available\n"
     ]
    }
   ],
   "source": [
    "if torch.cuda.is_available():\n",
    "    device = torch.device('cuda')\n",
    "    print('GPU is available')\n",
    "else:\n",
    "    device = torch.device('cpu')\n",
    "    print('GPU not available, CPU used')\n",
    "\n",
    "background_tensor_data = torch.tensor(parsed_data, dtype=torch.float)\n",
    "background_dataset = TensorDataset(background_tensor_data)\n",
    "background_dataloader = DataLoader(background_dataset, batch_size=8192, shuffle=False)\n",
    "\n",
    "background_reconstruction_loss = []\n",
    "model = AutoEncoder()  # Replace with your actual model class name\n",
    "model.load_state_dict(torch.load('../model/autoencoder_model_2_2.pth', map_location=device))\n",
    "model.to(device)\n",
    "model.eval()\n",
    "with torch.no_grad():\n",
    "    for data in background_dataloader:\n",
    "        inputs = data[0].to(device)\n",
    "        reconstructed = model(inputs)\n",
    "        error = torch.sum((inputs-reconstructed)**2, dim=1)\n",
    "        background_reconstruction_loss.extend(error.cpu().numpy())"
   ]
  },
  {
   "cell_type": "code",
   "execution_count": 30,
   "metadata": {},
   "outputs": [
    {
     "data": {
      "image/png": "[encoded data removed]",
      "text/plain": [
       "<Figure size 640x480 with 1 Axes>"
      ]
     },
     "metadata": {},
     "output_type": "display_data"
    }
   ],
   "source": [
    "plt.hist(background_reconstruction_loss, bins=500)\n",
    "plt.xlabel('Reconstruction Loss')\n",
    "plt.ylabel('Number of Events')\n",
    "plt.title(\"Histogram of Background Data Reconstruction Loss\")\n",
    "plt.show()"
   ]
  },
  {
   "cell_type": "code",
   "execution_count": 31,
   "metadata": {},
   "outputs": [
    {
     "name": "stdout",
     "output_type": "stream",
     "text": [
      "97128.52\n",
      "19.616138\n"
     ]
    }
   ],
   "source": [
    "max_error = max(background_reconstruction_loss)\n",
    "min_error = min(background_reconstruction_loss)\n",
    "print(max_error)\n",
    "print(min_error)"
   ]
  },
  {
   "cell_type": "code",
   "execution_count": 32,
   "metadata": {},
   "outputs": [
    {
     "name": "stdout",
     "output_type": "stream",
     "text": [
      "3505.329828751807\n"
     ]
    }
   ],
   "source": [
    "sum = 0\n",
    "for i in background_reconstruction_loss:\n",
    "    sum += i\n",
    "\n",
    "print(sum/len(background_reconstruction_loss))"
   ]
  },
  {
   "cell_type": "markdown",
   "metadata": {},
   "source": [
    "#### Signal Reconstruction Error"
   ]
  },
  {
   "cell_type": "code",
   "execution_count": 33,
   "metadata": {},
   "outputs": [],
   "source": [
    "signal_tensor_data = torch.tensor(parsed_signal_data, dtype=torch.float)\n",
    "signal_dataset = TensorDataset(signal_tensor_data)\n",
    "signal_dataloader = DataLoader(signal_dataset, batch_size=8192, shuffle=False)\n",
    "\n",
    "signal_reconstruction_loss = []\n",
    "with torch.no_grad():\n",
    "    for data in signal_dataloader:\n",
    "        inputs = data[0].to(device)\n",
    "        reconstructed = model(inputs)\n",
    "        error = torch.sum((inputs-reconstructed)**2, dim=1)\n",
    "        signal_reconstruction_loss.extend(error.cpu().numpy())"
   ]
  },
  {
   "cell_type": "code",
   "execution_count": 34,
   "metadata": {},
   "outputs": [
    {
     "data": {
      "image/png": "[encoded data removed]",
      "text/plain": [
       "<Figure size 640x480 with 1 Axes>"
      ]
     },
     "metadata": {},
     "output_type": "display_data"
    }
   ],
   "source": [
    "plt.hist(signal_reconstruction_loss, bins=500)\n",
    "plt.xlabel('Reconstruction Loss')\n",
    "plt.ylabel('Number of Events')\n",
    "plt.title(\"Histogram of Signal Data Reconstruction Loss\")\n",
    "plt.show()"
   ]
  },
  {
   "cell_type": "code",
   "execution_count": 35,
   "metadata": {},
   "outputs": [
    {
     "name": "stdout",
     "output_type": "stream",
     "text": [
      "194998.7\n",
      "33.501213\n"
     ]
    }
   ],
   "source": [
    "max_error = max(signal_reconstruction_loss)\n",
    "min_error = min(signal_reconstruction_loss)\n",
    "print(max_error)\n",
    "print(min_error)"
   ]
  },
  {
   "cell_type": "code",
   "execution_count": 36,
   "metadata": {},
   "outputs": [
    {
     "name": "stdout",
     "output_type": "stream",
     "text": [
      "2301.6197908532486\n"
     ]
    }
   ],
   "source": [
    "sum = 0\n",
    "for i in signal_reconstruction_loss:\n",
    "    sum += i\n",
    "\n",
    "print(sum/len(signal_reconstruction_loss))"
   ]
  },
  {
   "cell_type": "code",
   "execution_count": null,
   "metadata": {},
   "outputs": [],
   "source": []
  }
 ],
 "metadata": {
  "kernelspec": {
   "display_name": "isef",
   "language": "python",
   "name": "python3"
  },
  "language_info": {
   "codemirror_mode": {
    "name": "ipython",
    "version": 3
   },
   "file_extension": ".py",
   "mimetype": "text/x-python",
   "name": "python",
   "nbconvert_exporter": "python",
   "pygments_lexer": "ipython3",
   "version": "3.10.13"
  }
 },
 "nbformat": 4,
 "nbformat_minor": 2
}
